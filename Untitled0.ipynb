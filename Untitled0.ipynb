{
  "nbformat": 4,
  "nbformat_minor": 0,
  "metadata": {
    "colab": {
      "name": "Untitled0.ipynb",
      "provenance": [],
      "collapsed_sections": [],
      "mount_file_id": "1cmpL3sdNdW6g0QbZ60AltKAOlMLXmCeB",
      "authorship_tag": "ABX9TyOpp4R1GGyiW0INKWjFJQ5S",
      "include_colab_link": true
    },
    "kernelspec": {
      "name": "python3",
      "display_name": "Python 3"
    },
    "language_info": {
      "name": "python"
    }
  },
  "cells": [
    {
      "cell_type": "markdown",
      "metadata": {
        "id": "view-in-github",
        "colab_type": "text"
      },
      "source": [
        "<a href=\"https://colab.research.google.com/github/ysfArslan1/GTSRB---German-Traffic-Sign-Recognition/blob/main/Untitled0.ipynb\" target=\"_parent\"><img src=\"https://colab.research.google.com/assets/colab-badge.svg\" alt=\"Open In Colab\"/></a>"
      ]
    },
    {
      "cell_type": "code",
      "source": [
        "Classes = { 0:'Speed limit (20km/h)',\n",
        "            1:'Speed limit (30km/h)', \n",
        "            2:'Speed limit (50km/h)', \n",
        "            3:'Speed limit (60km/h)', \n",
        "            4:'Speed limit (70km/h)', \n",
        "            5:'Speed limit (80km/h)', \n",
        "            6:'End of speed limit (80km/h)', \n",
        "            7:'Speed limit (100km/h)', \n",
        "            8:'Speed limit (120km/h)', \n",
        "            9:'No passing', \n",
        "            10:'No passing veh over 3.5 tons', \n",
        "            11:'Right-of-way at intersection', \n",
        "            12:'Priority road', \n",
        "            13:'Yield', \n",
        "            14:'Stop', \n",
        "            15:'No vehicles', \n",
        "            16:'Veh > 3.5 tons prohibited', \n",
        "            17:'No entry', \n",
        "            18:'General caution', \n",
        "            19:'Dangerous curve left', \n",
        "            20:'Dangerous curve right', \n",
        "            21:'Double curve', \n",
        "            22:'Bumpy road', \n",
        "            23:'Slippery road', \n",
        "            24:'Road narrows on the right', \n",
        "            25:'Road work', \n",
        "            26:'Traffic signals', \n",
        "            27:'Pedestrians', \n",
        "            28:'Children crossing', \n",
        "            29:'Bicycles crossing', \n",
        "            30:'Beware of ice/snow',\n",
        "            31:'Wild animals crossing', \n",
        "            32:'End speed + passing limits', \n",
        "            33:'Turn right ahead', \n",
        "            34:'Turn left ahead', \n",
        "            35:'Ahead only', \n",
        "            36:'Go straight or right', \n",
        "            37:'Go straight or left', \n",
        "            38:'Keep right', \n",
        "            39:'Keep left', \n",
        "            40:'Roundabout mandatory', \n",
        "            41:'End of no passing', \n",
        "            42:'End no passing veh > 3.5 tons' }"
      ],
      "metadata": {
        "id": "S6vKlPKCD0YE"
      },
      "execution_count": null,
      "outputs": []
    },
    {
      "cell_type": "code",
      "execution_count": null,
      "metadata": {
        "id": "voUdHfDnh8DY"
      },
      "outputs": [],
      "source": [
        "import numpy as np                               #basically an array\n",
        "import pandas as pd                              #reading and analyze csv\n",
        "import matplotlib.pyplot as plt                  #data visualisation\n",
        "import cv2                                       #comp. vision, image processing, uses numpy as images are 2D array(matrices)\n",
        "import tensorflow as tf                          #creating neural network (collect, build, train, evaluate, predict)\n",
        "from PIL import Image                            #manipulate images in python\n",
        "import os                                       #directory control\n",
        "from sklearn.model_selection import train_test_split\n",
        "from tensorflow.keras.utils import to_categorical           #one-hot encoding\n",
        "from keras.models import Sequential, load_model\n",
        "from keras.layers import Conv2D, MaxPool2D, Dense, Flatten, Dropout\n",
        "import tqdm                                     #progress bar\n",
        "import warnings\n",
        "import keras"
      ]
    },
    {
      "cell_type": "code",
      "source": [
        "data_train = []\n",
        "labels = []\n",
        "classes = 43\n",
        "\n",
        "for i in range(classes):\n",
        "    #print(help(os.listdir))\n",
        "    #path = os.path.join(os.getcwd(),'Train',str(i))\n",
        "    #path = \"/content/drive/MyDrive/kodlamalar/enformatik/trafficSignsRecog-master/Train.csv\"\n",
        "    zeros = \"\"\n",
        "    if i<10:\n",
        "      zeros = \"0000\"\n",
        "    else:\n",
        "      zeros = \"000\"\n",
        "    path = \"/content/drive/MyDrive/kodlamalar/enformatik/Final_Training/Images/\"+zeros+str(i)\n",
        "    print(path)\n",
        "    images = os.listdir(path)\n",
        "    print(len(images))\n",
        "    for j in images:\n",
        "        try:\n",
        "            image = Image.open(path + '/'+ j)\n",
        "            image = image.resize((30,30))\n",
        "            image = np.array(image)\n",
        "            data_train.append(image)\n",
        "            labels.append(i)\n",
        "        except:\n",
        "            print(\"Error loading image \",j)\n",
        "              "
      ],
      "metadata": {
        "colab": {
          "base_uri": "https://localhost:8080/"
        },
        "id": "u7ilvagtiB__",
        "outputId": "14378ca4-797b-42e1-ca1b-07af48d884b3"
      },
      "execution_count": null,
      "outputs": [
        {
          "output_type": "stream",
          "name": "stdout",
          "text": [
            "/content/drive/MyDrive/kodlamalar/enformatik/Final_Training/Images/00000\n",
            "211\n",
            "Error loading image  GT-00000.csv\n",
            "/content/drive/MyDrive/kodlamalar/enformatik/Final_Training/Images/00001\n",
            "2221\n",
            "Error loading image  GT-00001.csv\n",
            "/content/drive/MyDrive/kodlamalar/enformatik/Final_Training/Images/00002\n",
            "2251\n",
            "Error loading image  GT-00002.csv\n",
            "/content/drive/MyDrive/kodlamalar/enformatik/Final_Training/Images/00003\n",
            "1411\n",
            "Error loading image  GT-00003.csv\n",
            "/content/drive/MyDrive/kodlamalar/enformatik/Final_Training/Images/00004\n",
            "1981\n",
            "Error loading image  GT-00004.csv\n",
            "/content/drive/MyDrive/kodlamalar/enformatik/Final_Training/Images/00005\n",
            "1861\n",
            "Error loading image  GT-00005.csv\n",
            "/content/drive/MyDrive/kodlamalar/enformatik/Final_Training/Images/00006\n",
            "421\n",
            "Error loading image  GT-00006.csv\n",
            "/content/drive/MyDrive/kodlamalar/enformatik/Final_Training/Images/00007\n",
            "1441\n",
            "Error loading image  GT-00007.csv\n",
            "/content/drive/MyDrive/kodlamalar/enformatik/Final_Training/Images/00008\n",
            "1411\n",
            "Error loading image  GT-00008.csv\n",
            "/content/drive/MyDrive/kodlamalar/enformatik/Final_Training/Images/00009\n",
            "1471\n",
            "Error loading image  GT-00009.csv\n",
            "/content/drive/MyDrive/kodlamalar/enformatik/Final_Training/Images/00010\n",
            "2011\n",
            "Error loading image  GT-00010.csv\n",
            "/content/drive/MyDrive/kodlamalar/enformatik/Final_Training/Images/00011\n",
            "1321\n",
            "Error loading image  GT-00011.csv\n",
            "/content/drive/MyDrive/kodlamalar/enformatik/Final_Training/Images/00012\n",
            "2101\n",
            "Error loading image  GT-00012.csv\n",
            "/content/drive/MyDrive/kodlamalar/enformatik/Final_Training/Images/00013\n",
            "2162\n",
            "Error loading image  GT-00013.csv\n",
            "/content/drive/MyDrive/kodlamalar/enformatik/Final_Training/Images/00014\n",
            "781\n",
            "Error loading image  GT-00014.csv\n",
            "/content/drive/MyDrive/kodlamalar/enformatik/Final_Training/Images/00015\n",
            "631\n",
            "Error loading image  GT-00015.csv\n",
            "/content/drive/MyDrive/kodlamalar/enformatik/Final_Training/Images/00016\n",
            "421\n",
            "Error loading image  GT-00016.csv\n",
            "/content/drive/MyDrive/kodlamalar/enformatik/Final_Training/Images/00017\n",
            "1111\n",
            "Error loading image  GT-00017.csv\n",
            "/content/drive/MyDrive/kodlamalar/enformatik/Final_Training/Images/00018\n",
            "1201\n",
            "Error loading image  GT-00018.csv\n",
            "/content/drive/MyDrive/kodlamalar/enformatik/Final_Training/Images/00019\n",
            "211\n",
            "Error loading image  GT-00019.csv\n",
            "/content/drive/MyDrive/kodlamalar/enformatik/Final_Training/Images/00020\n",
            "361\n",
            "Error loading image  GT-00020.csv\n",
            "/content/drive/MyDrive/kodlamalar/enformatik/Final_Training/Images/00021\n",
            "331\n",
            "Error loading image  GT-00021.csv\n",
            "/content/drive/MyDrive/kodlamalar/enformatik/Final_Training/Images/00022\n",
            "391\n",
            "Error loading image  GT-00022.csv\n",
            "/content/drive/MyDrive/kodlamalar/enformatik/Final_Training/Images/00023\n",
            "511\n",
            "Error loading image  GT-00023.csv\n",
            "/content/drive/MyDrive/kodlamalar/enformatik/Final_Training/Images/00024\n",
            "271\n",
            "Error loading image  GT-00024.csv\n",
            "/content/drive/MyDrive/kodlamalar/enformatik/Final_Training/Images/00025\n",
            "1501\n",
            "Error loading image  GT-00025.csv\n",
            "/content/drive/MyDrive/kodlamalar/enformatik/Final_Training/Images/00026\n",
            "601\n",
            "Error loading image  GT-00026.csv\n",
            "/content/drive/MyDrive/kodlamalar/enformatik/Final_Training/Images/00027\n",
            "241\n",
            "Error loading image  GT-00027.csv\n",
            "/content/drive/MyDrive/kodlamalar/enformatik/Final_Training/Images/00028\n",
            "541\n",
            "Error loading image  GT-00028.csv\n",
            "/content/drive/MyDrive/kodlamalar/enformatik/Final_Training/Images/00029\n",
            "271\n",
            "Error loading image  GT-00029.csv\n",
            "/content/drive/MyDrive/kodlamalar/enformatik/Final_Training/Images/00030\n",
            "451\n",
            "Error loading image  GT-00030.csv\n",
            "/content/drive/MyDrive/kodlamalar/enformatik/Final_Training/Images/00031\n",
            "781\n",
            "Error loading image  GT-00031.csv\n",
            "/content/drive/MyDrive/kodlamalar/enformatik/Final_Training/Images/00032\n",
            "241\n",
            "Error loading image  GT-00032.csv\n",
            "/content/drive/MyDrive/kodlamalar/enformatik/Final_Training/Images/00033\n",
            "690\n",
            "Error loading image  GT-00033.csv\n",
            "/content/drive/MyDrive/kodlamalar/enformatik/Final_Training/Images/00034\n",
            "421\n",
            "Error loading image  GT-00034.csv\n",
            "/content/drive/MyDrive/kodlamalar/enformatik/Final_Training/Images/00035\n",
            "1201\n",
            "Error loading image  GT-00035.csv\n",
            "/content/drive/MyDrive/kodlamalar/enformatik/Final_Training/Images/00036\n",
            "401\n",
            "Error loading image  GT-00036.csv\n",
            "/content/drive/MyDrive/kodlamalar/enformatik/Final_Training/Images/00037\n",
            "221\n",
            "Error loading image  GT-00037.csv\n",
            "/content/drive/MyDrive/kodlamalar/enformatik/Final_Training/Images/00038\n",
            "2083\n",
            "Error loading image  GT-00038.csv\n",
            "/content/drive/MyDrive/kodlamalar/enformatik/Final_Training/Images/00039\n",
            "301\n",
            "Error loading image  GT-00039.csv\n",
            "/content/drive/MyDrive/kodlamalar/enformatik/Final_Training/Images/00040\n",
            "361\n",
            "Error loading image  GT-00040.csv\n",
            "/content/drive/MyDrive/kodlamalar/enformatik/Final_Training/Images/00041\n",
            "241\n",
            "Error loading image  GT-00041.csv\n",
            "/content/drive/MyDrive/kodlamalar/enformatik/Final_Training/Images/00042\n",
            "241\n",
            "Error loading image  GT-00042.csv\n"
          ]
        }
      ]
    },
    {
      "cell_type": "code",
      "source": [
        "len(data_train)"
      ],
      "metadata": {
        "colab": {
          "base_uri": "https://localhost:8080/"
        },
        "id": "IIvjqyXwlxWc",
        "outputId": "9b57f80d-3ecc-4fb5-df48-409625b0637f"
      },
      "execution_count": null,
      "outputs": [
        {
          "output_type": "execute_result",
          "data": {
            "text/plain": [
              "39242"
            ]
          },
          "metadata": {},
          "execution_count": 4
        }
      ]
    },
    {
      "cell_type": "code",
      "source": [
        "data_train = np.array(data_train)\n",
        "labels = np.array(labels)"
      ],
      "metadata": {
        "id": "5U_epc-YuCc4"
      },
      "execution_count": null,
      "outputs": []
    },
    {
      "cell_type": "code",
      "source": [
        "print(data_train.shape, labels.shape)\n",
        "# Total Images:39209 of size (30*30*3(3 Means Color)) "
      ],
      "metadata": {
        "colab": {
          "base_uri": "https://localhost:8080/"
        },
        "id": "RSSUrI9CuF99",
        "outputId": "3e50c411-4dfd-4978-dc2c-57009a71829d"
      },
      "execution_count": null,
      "outputs": [
        {
          "output_type": "stream",
          "name": "stdout",
          "text": [
            "(39242, 30, 30, 3) (39242,)\n"
          ]
        }
      ]
    },
    {
      "cell_type": "code",
      "source": [
        "plt.imshow(data_train[1])"
      ],
      "metadata": {
        "colab": {
          "base_uri": "https://localhost:8080/",
          "height": 283
        },
        "id": "o8WOp43imjxD",
        "outputId": "1cdef012-13b7-4482-9918-20d950c38c62"
      },
      "execution_count": null,
      "outputs": [
        {
          "output_type": "execute_result",
          "data": {
            "text/plain": [
              "<matplotlib.image.AxesImage at 0x7fc2846fa5d0>"
            ]
          },
          "metadata": {},
          "execution_count": 7
        },
        {
          "output_type": "display_data",
          "data": {
            "image/png": "[encoded data removed]",
            "text/plain": [
              "<Figure size 432x288 with 1 Axes>"
            ]
          },
          "metadata": {
            "needs_background": "light"
          }
        }
      ]
    },
    {
      "cell_type": "code",
      "source": [
        "data_train[39000] #peaking"
      ],
      "metadata": {
        "colab": {
          "base_uri": "https://localhost:8080/"
        },
        "id": "2TXQP7hTuMMT",
        "outputId": "3f06cd84-98cc-4fd8-fb77-8e1b005dcc93"
      },
      "execution_count": null,
      "outputs": [
        {
          "output_type": "execute_result",
          "data": {
            "text/plain": [
              "array([[[208, 188, 180],\n",
              "        [208, 186, 177],\n",
              "        [202, 186, 185],\n",
              "        ...,\n",
              "        [173, 160, 152],\n",
              "        [172, 155, 137],\n",
              "        [170, 155, 139]],\n",
              "\n",
              "       [[202, 190, 183],\n",
              "        [212, 193, 185],\n",
              "        [209, 194, 189],\n",
              "        ...,\n",
              "        [174, 160, 147],\n",
              "        [172, 159, 138],\n",
              "        [154, 147, 148]],\n",
              "\n",
              "       [[206, 199, 196],\n",
              "        [211, 192, 183],\n",
              "        [211, 195, 187],\n",
              "        ...,\n",
              "        [179, 158, 141],\n",
              "        [177, 162, 145],\n",
              "        [171, 161, 161]],\n",
              "\n",
              "       ...,\n",
              "\n",
              "       [[ 51,  49,  49],\n",
              "        [ 45,  47,  46],\n",
              "        [ 50,  49,  43],\n",
              "        ...,\n",
              "        [172, 156, 145],\n",
              "        [184, 163, 148],\n",
              "        [201, 176, 159]],\n",
              "\n",
              "       [[ 48,  49,  49],\n",
              "        [ 44,  45,  44],\n",
              "        [ 49,  47,  43],\n",
              "        ...,\n",
              "        [168, 157, 145],\n",
              "        [171, 156, 141],\n",
              "        [196, 170, 154]],\n",
              "\n",
              "       [[ 52,  52,  50],\n",
              "        [ 49,  49,  46],\n",
              "        [ 58,  56,  51],\n",
              "        ...,\n",
              "        [171, 161, 155],\n",
              "        [158, 143, 130],\n",
              "        [160, 144, 130]]], dtype=uint8)"
            ]
          },
          "metadata": {},
          "execution_count": 8
        }
      ]
    },
    {
      "cell_type": "code",
      "source": [
        "labels[4900]"
      ],
      "metadata": {
        "colab": {
          "base_uri": "https://localhost:8080/"
        },
        "id": "BZPgZQIEuV0q",
        "outputId": "8d3ad52a-c2d2-43fe-fa60-5deb53a3cabe"
      },
      "execution_count": null,
      "outputs": [
        {
          "output_type": "execute_result",
          "data": {
            "text/plain": [
              "3"
            ]
          },
          "metadata": {},
          "execution_count": 9
        }
      ]
    },
    {
      "cell_type": "code",
      "source": [
        "X_train, X_test, y_train, y_test = train_test_split(data_train, labels, test_size=0.2, random_state=68)\n",
        "\n",
        "print(X_train.shape, X_test.shape, y_train.shape, y_test.shape)"
      ],
      "metadata": {
        "colab": {
          "base_uri": "https://localhost:8080/"
        },
        "id": "0XQjInSDuYim",
        "outputId": "9742e938-e722-4efa-c58c-e656c8cb3a65"
      },
      "execution_count": null,
      "outputs": [
        {
          "output_type": "stream",
          "name": "stdout",
          "text": [
            "(31393, 30, 30, 3) (7849, 30, 30, 3) (31393,) (7849,)\n"
          ]
        }
      ]
    },
    {
      "cell_type": "code",
      "source": [
        "#Converting the labels into one hot encoding\n",
        "y_train = to_categorical(y_train, 43)\n",
        "y_test = to_categorical(y_test, 43)\n",
        "print(X_train.shape, X_test.shape, y_train.shape, y_test.shape)"
      ],
      "metadata": {
        "colab": {
          "base_uri": "https://localhost:8080/"
        },
        "id": "q8YaYQdJufTy",
        "outputId": "70b02c62-ba50-4b2f-bd29-9b8bf5d659e7"
      },
      "execution_count": null,
      "outputs": [
        {
          "output_type": "stream",
          "name": "stdout",
          "text": [
            "(31393, 30, 30, 3) (7849, 30, 30, 3) (31393, 43) (7849, 43)\n"
          ]
        }
      ]
    },
    {
      "cell_type": "code",
      "source": [
        "y_train[20000]"
      ],
      "metadata": {
        "colab": {
          "base_uri": "https://localhost:8080/"
        },
        "id": "PlXesVy1uihg",
        "outputId": "a095ac75-483c-4b5d-d9e4-ef6962c1aeb0"
      },
      "execution_count": null,
      "outputs": [
        {
          "output_type": "execute_result",
          "data": {
            "text/plain": [
              "array([0., 0., 0., 0., 1., 0., 0., 0., 0., 0., 0., 0., 0., 0., 0., 0., 0.,\n",
              "       0., 0., 0., 0., 0., 0., 0., 0., 0., 0., 0., 0., 0., 0., 0., 0., 0.,\n",
              "       0., 0., 0., 0., 0., 0., 0., 0., 0.], dtype=float32)"
            ]
          },
          "metadata": {},
          "execution_count": 12
        }
      ]
    },
    {
      "cell_type": "code",
      "source": [
        "#Building the model\n",
        "#input_sh =  X_train.shape[1:]\n",
        "input_sh = (30,30,3)\n",
        "model = Sequential()\n",
        "model.add(Conv2D(filters=32, kernel_size=(5,5), activation='relu',input_shape = input_sh))\n",
        "model.add(Conv2D(filters=32, kernel_size=(5,5), activation='relu'))\n",
        "model.add(MaxPool2D(pool_size=(2, 2)))\n",
        "model.add(Dropout(rate=0.25))\n",
        "model.add(Conv2D(filters=64, kernel_size=(3, 3), activation='relu'))\n",
        "model.add(Conv2D(filters=64, kernel_size=(3, 3), activation='relu'))\n",
        "model.add(MaxPool2D(pool_size=(2, 2)))\n",
        "model.add(Dropout(rate=0.25))\n",
        "model.add(Flatten())\n",
        "model.add(Dense(256, activation='relu'))\n",
        "model.add(Dropout(rate=0.5))\n",
        "model.add(Dense(43, activation='softmax'))\n",
        "\n",
        "warnings.filterwarnings(\"ignore\", category=DeprecationWarning)"
      ],
      "metadata": {
        "id": "LjnxDIJdumQ7"
      },
      "execution_count": null,
      "outputs": []
    },
    {
      "cell_type": "code",
      "source": [
        "model.compile(loss='categorical_crossentropy', optimizer='adam', metrics=['accuracy'])\n",
        "model.summary()"
      ],
      "metadata": {
        "colab": {
          "base_uri": "https://localhost:8080/"
        },
        "id": "yOUB_PqzuppC",
        "outputId": "3eb346a2-aeb3-483f-dc5c-a8ff2e15a5a4"
      },
      "execution_count": null,
      "outputs": [
        {
          "output_type": "stream",
          "name": "stdout",
          "text": [
            "Model: \"sequential\"\n",
            "_________________________________________________________________\n",
            " Layer (type)                Output Shape              Param #   \n",
            "=================================================================\n",
            " conv2d (Conv2D)             (None, 26, 26, 32)        2432      \n",
            "                                                                 \n",
            " conv2d_1 (Conv2D)           (None, 22, 22, 32)        25632     \n",
            "                                                                 \n",
            " max_pooling2d (MaxPooling2D  (None, 11, 11, 32)       0         \n",
            " )                                                               \n",
            "                                                                 \n",
            " dropout (Dropout)           (None, 11, 11, 32)        0         \n",
            "                                                                 \n",
            " conv2d_2 (Conv2D)           (None, 9, 9, 64)          18496     \n",
            "                                                                 \n",
            " conv2d_3 (Conv2D)           (None, 7, 7, 64)          36928     \n",
            "                                                                 \n",
            " max_pooling2d_1 (MaxPooling  (None, 3, 3, 64)         0         \n",
            " 2D)                                                             \n",
            "                                                                 \n",
            " dropout_1 (Dropout)         (None, 3, 3, 64)          0         \n",
            "                                                                 \n",
            " flatten (Flatten)           (None, 576)               0         \n",
            "                                                                 \n",
            " dense (Dense)               (None, 256)               147712    \n",
            "                                                                 \n",
            " dropout_2 (Dropout)         (None, 256)               0         \n",
            "                                                                 \n",
            " dense_1 (Dense)             (None, 43)                11051     \n",
            "                                                                 \n",
            "=================================================================\n",
            "Total params: 242,251\n",
            "Trainable params: 242,251\n",
            "Non-trainable params: 0\n",
            "_________________________________________________________________\n"
          ]
        }
      ]
    },
    {
      "cell_type": "code",
      "source": [
        "history = model.fit(X_train, y_train, batch_size=32, epochs=2, validation_data=(X_test, y_test))\n",
        "#Final trainig of model\n",
        "\n",
        "warnings.filterwarnings(\"ignore\", category=DeprecationWarning)"
      ],
      "metadata": {
        "colab": {
          "base_uri": "https://localhost:8080/"
        },
        "id": "pwsYMfArut-i",
        "outputId": "2920a9f3-ca1a-4ca5-82bb-c93198d129a0"
      },
      "execution_count": null,
      "outputs": [
        {
          "output_type": "stream",
          "name": "stdout",
          "text": [
            "Epoch 1/2\n",
            "982/982 [==============================] - 127s 128ms/step - loss: 2.1114 - accuracy: 0.4610 - val_loss: 0.6643 - val_accuracy: 0.8154\n",
            "Epoch 2/2\n",
            "982/982 [==============================] - 126s 128ms/step - loss: 0.9162 - accuracy: 0.7297 - val_loss: 0.3676 - val_accuracy: 0.8948\n"
          ]
        }
      ]
    },
    {
      "cell_type": "code",
      "source": [
        "model.save(\"Trafic_signs_model.h5\")\n",
        "model.save_weights(\"Trafic_signs_model_weights.h5\")"
      ],
      "metadata": {
        "id": "rkS2VbhewTcL"
      },
      "execution_count": null,
      "outputs": []
    },
    {
      "cell_type": "code",
      "source": [
        "#plotting graphs for accuracy \n",
        "plt.figure(0)\n",
        "plt.plot(history.history['accuracy'], label='training accuracy')\n",
        "plt.plot(history.history['val_accuracy'], label='val accuracy')\n",
        "plt.title('Accuracy')\n",
        "plt.xlabel('epochs')\n",
        "plt.ylabel('accuracy')\n",
        "plt.legend()\n",
        "plt.show()"
      ],
      "metadata": {
        "colab": {
          "base_uri": "https://localhost:8080/",
          "height": 295
        },
        "id": "lKL6RHaAwcvN",
        "outputId": "201aecff-43f1-4451-c5ed-083d30f3c2c3"
      },
      "execution_count": null,
      "outputs": [
        {
          "output_type": "display_data",
          "data": {
            "image/png": "[encoded data removed]",
            "text/plain": [
              "<Figure size 432x288 with 1 Axes>"
            ]
          },
          "metadata": {
            "needs_background": "light"
          }
        }
      ]
    },
    {
      "cell_type": "code",
      "source": [
        "#plotting graphs for loss \n",
        "plt.figure(1)\n",
        "plt.plot(history.history['loss'], label='training loss')\n",
        "plt.plot(history.history['val_loss'], label='val loss')\n",
        "plt.title('Loss')\n",
        "plt.xlabel('epochs')\n",
        "plt.ylabel('loss')\n",
        "plt.legend()\n",
        "plt.show()"
      ],
      "metadata": {
        "colab": {
          "base_uri": "https://localhost:8080/",
          "height": 295
        },
        "id": "5I7tErZRwelk",
        "outputId": "4f766a57-d36c-4ed0-a82c-e6c382669d35"
      },
      "execution_count": null,
      "outputs": [
        {
          "output_type": "display_data",
          "data": {
            "image/png": "[encoded data removed]",
            "text/plain": [
              "<Figure size 432x288 with 1 Axes>"
            ]
          },
          "metadata": {
            "needs_background": "light"
          }
        }
      ]
    },
    {
      "cell_type": "code",
      "source": [
        "#testing accuracy on test dataset\n",
        "from sklearn.metrics import accuracy_score"
      ],
      "metadata": {
        "id": "EHv-PvFtwh4W"
      },
      "execution_count": null,
      "outputs": []
    },
    {
      "cell_type": "code",
      "source": [
        "y_test = pd.read_csv('/content/drive/MyDrive/kodlamalar/enformatik/Final_Test/Test.csv')\n",
        "\n",
        "#labels = y_test[\"ClassId\"].values\n",
        "print(dir(y_test))"
      ],
      "metadata": {
        "colab": {
          "base_uri": "https://localhost:8080/"
        },
        "id": "tKICQpePw1Uz",
        "outputId": "acbb1b48-dfed-4c56-d142-a1cf2ba325d5"
      },
      "execution_count": null,
      "outputs": [
        {
          "output_type": "stream",
          "name": "stdout",
          "text": [
            "['ClassId', 'Height', 'Path', 'T', 'Width', '_AXIS_LEN', '_AXIS_ORDERS', '_AXIS_REVERSED', '_AXIS_TO_AXIS_NUMBER', '_HANDLED_TYPES', '__abs__', '__add__', '__and__', '__annotations__', '__array__', '__array_priority__', '__array_ufunc__', '__array_wrap__', '__bool__', '__class__', '__contains__', '__copy__', '__deepcopy__', '__delattr__', '__delitem__', '__dict__', '__dir__', '__divmod__', '__doc__', '__eq__', '__finalize__', '__floordiv__', '__format__', '__ge__', '__getattr__', '__getattribute__', '__getitem__', '__getstate__', '__gt__', '__hash__', '__iadd__', '__iand__', '__ifloordiv__', '__imod__', '__imul__', '__init__', '__init_subclass__', '__invert__', '__ior__', '__ipow__', '__isub__', '__iter__', '__itruediv__', '__ixor__', '__le__', '__len__', '__lt__', '__matmul__', '__mod__', '__module__', '__mul__', '__ne__', '__neg__', '__new__', '__nonzero__', '__or__', '__pos__', '__pow__', '__radd__', '__rand__', '__rdivmod__', '__reduce__', '__reduce_ex__', '__repr__', '__rfloordiv__', '__rmatmul__', '__rmod__', '__rmul__', '__ror__', '__round__', '__rpow__', '__rsub__', '__rtruediv__', '__rxor__', '__setattr__', '__setitem__', '__setstate__', '__sizeof__', '__str__', '__sub__', '__subclasshook__', '__truediv__', '__weakref__', '__xor__', '_accessors', '_accum_func', '_add_numeric_operations', '_agg_by_level', '_agg_examples_doc', '_agg_summary_and_see_also_doc', '_align_frame', '_align_series', '_arith_method', '_as_manager', '_attrs', '_box_col_values', '_can_fast_transpose', '_check_inplace_and_allows_duplicate_labels', '_check_inplace_setting', '_check_is_chained_assignment_possible', '_check_label_or_level_ambiguity', '_check_setitem_copy', '_clear_item_cache', '_clip_with_one_bound', '_clip_with_scalar', '_cmp_method', '_combine_frame', '_consolidate', '_consolidate_inplace', '_construct_axes_dict', '_construct_axes_from_arguments', '_construct_result', '_constructor', '_constructor_sliced', '_convert', '_count_level', '_data', '_dir_additions', '_dir_deletions', '_dispatch_frame_op', '_drop_axis', '_drop_labels_or_levels', '_ensure_valid_index', '_find_valid_index', '_flags', '_from_arrays', '_from_mgr', '_get_agg_axis', '_get_axis', '_get_axis_name', '_get_axis_number', '_get_axis_resolvers', '_get_block_manager_axis', '_get_bool_data', '_get_cleaned_column_resolvers', '_get_column_array', '_get_index_resolvers', '_get_item_cache', '_get_label_or_level_values', '_get_numeric_data', '_get_value', '_getitem_bool_array', '_getitem_multilevel', '_gotitem', '_hidden_attrs', '_indexed_same', '_info_axis', '_info_axis_name', '_info_axis_number', '_info_repr', '_init_mgr', '_inplace_method', '_internal_names', '_internal_names_set', '_is_copy', '_is_homogeneous_type', '_is_label_or_level_reference', '_is_label_reference', '_is_level_reference', '_is_mixed_type', '_is_view', '_iset_item', '_iset_item_mgr', '_iset_not_inplace', '_item_cache', '_iter_column_arrays', '_ixs', '_join_compat', '_logical_func', '_logical_method', '_maybe_cache_changed', '_maybe_update_cacher', '_metadata', '_mgr', '_min_count_stat_function', '_needs_reindex_multi', '_protect_consolidate', '_reduce', '_reindex_axes', '_reindex_columns', '_reindex_index', '_reindex_multi', '_reindex_with_indexers', '_replace_columnwise', '_repr_data_resource_', '_repr_fits_horizontal_', '_repr_fits_vertical_', '_repr_html_', '_repr_latex_', '_reset_cache', '_reset_cacher', '_sanitize_column', '_series', '_set_axis', '_set_axis_name', '_set_axis_nocheck', '_set_is_copy', '_set_item', '_set_item_frame_value', '_set_item_mgr', '_set_value', '_setitem_array', '_setitem_frame', '_setitem_slice', '_slice', '_stat_axis', '_stat_axis_name', '_stat_axis_number', '_stat_function', '_stat_function_ddof', '_take_with_is_copy', '_to_dict_of_blocks', '_typ', '_update_inplace', '_validate_dtype', '_values', '_where', 'abs', 'add', 'add_prefix', 'add_suffix', 'agg', 'aggregate', 'align', 'all', 'any', 'append', 'apply', 'applymap', 'asfreq', 'asof', 'assign', 'astype', 'at', 'at_time', 'attrs', 'axes', 'backfill', 'between_time', 'bfill', 'bool', 'boxplot', 'clip', 'columns', 'combine', 'combine_first', 'compare', 'convert_dtypes', 'copy', 'corr', 'corrwith', 'count', 'cov', 'cummax', 'cummin', 'cumprod', 'cumsum', 'describe', 'diff', 'div', 'divide', 'dot', 'drop', 'drop_duplicates', 'droplevel', 'dropna', 'dtypes', 'duplicated', 'empty', 'eq', 'equals', 'eval', 'ewm', 'expanding', 'explode', 'ffill', 'fillna', 'filter', 'first', 'first_valid_index', 'flags', 'floordiv', 'from_dict', 'from_records', 'ge', 'get', 'groupby', 'gt', 'head', 'hist', 'iat', 'idxmax', 'idxmin', 'iloc', 'index', 'infer_objects', 'info', 'insert', 'interpolate', 'isin', 'isna', 'isnull', 'items', 'iteritems', 'iterrows', 'itertuples', 'join', 'keys', 'kurt', 'kurtosis', 'last', 'last_valid_index', 'le', 'loc', 'lookup', 'lt', 'mad', 'mask', 'max', 'mean', 'median', 'melt', 'memory_usage', 'merge', 'min', 'mod', 'mode', 'mul', 'multiply', 'ndim', 'ne', 'nlargest', 'notna', 'notnull', 'nsmallest', 'nunique', 'pad', 'pct_change', 'pipe', 'pivot', 'pivot_table', 'plot', 'pop', 'pow', 'prod', 'product', 'quantile', 'query', 'radd', 'rank', 'rdiv', 'reindex', 'reindex_like', 'rename', 'rename_axis', 'reorder_levels', 'replace', 'resample', 'reset_index', 'rfloordiv', 'rmod', 'rmul', 'rolling', 'round', 'rpow', 'rsub', 'rtruediv', 'sample', 'select_dtypes', 'sem', 'set_axis', 'set_flags', 'set_index', 'shape', 'shift', 'size', 'skew', 'slice_shift', 'sort_index', 'sort_values', 'squeeze', 'stack', 'std', 'style', 'sub', 'subtract', 'sum', 'swapaxes', 'swaplevel', 'tail', 'take', 'to_clipboard', 'to_csv', 'to_dict', 'to_excel', 'to_feather', 'to_gbq', 'to_hdf', 'to_html', 'to_json', 'to_latex', 'to_markdown', 'to_numpy', 'to_parquet', 'to_period', 'to_pickle', 'to_records', 'to_sql', 'to_stata', 'to_string', 'to_timestamp', 'to_xarray', 'to_xml', 'transform', 'transpose', 'truediv', 'truncate', 'tz_convert', 'tz_localize', 'unstack', 'update', 'value_counts', 'values', 'var', 'where', 'xs']\n"
          ]
        }
      ]
    },
    {
      "cell_type": "code",
      "source": [
        "print(y_test.columns)"
      ],
      "metadata": {
        "colab": {
          "base_uri": "https://localhost:8080/"
        },
        "id": "cmFakiUtxh2K",
        "outputId": "48d50c91-c0d5-4777-e7dd-22b5d506a598"
      },
      "execution_count": null,
      "outputs": [
        {
          "output_type": "stream",
          "name": "stdout",
          "text": [
            "Index(['Width', 'Height', 'Roi.X1', 'Roi.Y1', 'Roi.X2', 'Roi.Y2', 'ClassId',\n",
            "       'Path'],\n",
            "      dtype='object')\n"
          ]
        }
      ]
    },
    {
      "cell_type": "code",
      "source": [
        "\"\"\"\n",
        "y_test = pd.read_csv('Test.csv')\n",
        "\n",
        "labels = y_test[\"ClassId\"].values\n",
        "imgs = y_test[\"Path\"].values\n",
        "\"\"\"\n",
        "y_test = pd.read_csv('/content/drive/MyDrive/kodlamalar/enformatik/Final_Test/Test.csv')\n",
        "\n",
        "labels = y_test[\"ClassId\"].values\n",
        "\n",
        "\n",
        "path = \"/content/drive/MyDrive/kodlamalar/enformatik/Final_Test/Images/\"\n",
        "print(path)\n",
        "imgs = os.listdir(path)\n",
        "print(len(imgs))\n",
        "\n",
        "data_test=[]\n",
        "\n",
        "for img in imgs:\n",
        "    image = Image.open(path + ''+ img)\n",
        "    image = image.resize((30,30))\n",
        "    data_test.append(np.array(image))\n",
        "\n",
        "X_test=np.array(data_test)\n",
        "\n",
        "pred = model.predict(X_test)\n",
        "#pred = model.predict_classes(X_test)"
      ],
      "metadata": {
        "colab": {
          "base_uri": "https://localhost:8080/"
        },
        "id": "MtskuVqJwpJB",
        "outputId": "68b6b0c8-fb7c-42c8-a294-09e8f36711a2"
      },
      "execution_count": null,
      "outputs": [
        {
          "output_type": "stream",
          "name": "stdout",
          "text": [
            "/content/drive/MyDrive/kodlamalar/enformatik/Final_Test/Images/\n",
            "12639\n"
          ]
        }
      ]
    },
    {
      "cell_type": "code",
      "source": [
        "X_test.shape"
      ],
      "metadata": {
        "colab": {
          "base_uri": "https://localhost:8080/"
        },
        "id": "yriKfIZ1BoTT",
        "outputId": "3eaf48ee-d9ca-46e0-ccba-85e50cbc62d8"
      },
      "execution_count": null,
      "outputs": [
        {
          "output_type": "execute_result",
          "data": {
            "text/plain": [
              "(12639, 30, 30, 3)"
            ]
          },
          "metadata": {},
          "execution_count": 23
        }
      ]
    },
    {
      "cell_type": "code",
      "source": [
        "deneme_brim = 0\n",
        "\n",
        "print(dir(pred[deneme_brim]))\n",
        "print(pred[deneme_brim].max())\n",
        "print(pred[deneme_brim])\n",
        "\n",
        "\n",
        "most = pred[deneme_brim].max()\n",
        "key = 0\n",
        "array = pred[deneme_brim]\n",
        "for x in range(len(array)):\n",
        "\n",
        "    if array[x] == most:\n",
        "        key = x\n",
        "\n",
        "\n",
        "print(key)\n",
        "print(Classes[35])\n",
        "plt.imshow(X_test[deneme_brim])"
      ],
      "metadata": {
        "colab": {
          "base_uri": "https://localhost:8080/",
          "height": 529
        },
        "id": "kQB7-l5fCMKB",
        "outputId": "30e4c4c2-1903-4a5d-feb6-4fb71358165f"
      },
      "execution_count": null,
      "outputs": [
        {
          "output_type": "stream",
          "name": "stdout",
          "text": [
            "['T', '__abs__', '__add__', '__and__', '__array__', '__array_finalize__', '__array_function__', '__array_interface__', '__array_prepare__', '__array_priority__', '__array_struct__', '__array_ufunc__', '__array_wrap__', '__bool__', '__class__', '__complex__', '__contains__', '__copy__', '__deepcopy__', '__delattr__', '__delitem__', '__dir__', '__divmod__', '__doc__', '__eq__', '__float__', '__floordiv__', '__format__', '__ge__', '__getattribute__', '__getitem__', '__gt__', '__hash__', '__iadd__', '__iand__', '__ifloordiv__', '__ilshift__', '__imatmul__', '__imod__', '__imul__', '__index__', '__init__', '__init_subclass__', '__int__', '__invert__', '__ior__', '__ipow__', '__irshift__', '__isub__', '__iter__', '__itruediv__', '__ixor__', '__le__', '__len__', '__lshift__', '__lt__', '__matmul__', '__mod__', '__mul__', '__ne__', '__neg__', '__new__', '__or__', '__pos__', '__pow__', '__radd__', '__rand__', '__rdivmod__', '__reduce__', '__reduce_ex__', '__repr__', '__rfloordiv__', '__rlshift__', '__rmatmul__', '__rmod__', '__rmul__', '__ror__', '__rpow__', '__rrshift__', '__rshift__', '__rsub__', '__rtruediv__', '__rxor__', '__setattr__', '__setitem__', '__setstate__', '__sizeof__', '__str__', '__sub__', '__subclasshook__', '__truediv__', '__xor__', 'all', 'any', 'argmax', 'argmin', 'argpartition', 'argsort', 'astype', 'base', 'byteswap', 'choose', 'clip', 'compress', 'conj', 'conjugate', 'copy', 'ctypes', 'cumprod', 'cumsum', 'data', 'diagonal', 'dot', 'dtype', 'dump', 'dumps', 'fill', 'flags', 'flat', 'flatten', 'getfield', 'imag', 'item', 'itemset', 'itemsize', 'max', 'mean', 'min', 'nbytes', 'ndim', 'newbyteorder', 'nonzero', 'partition', 'prod', 'ptp', 'put', 'ravel', 'real', 'repeat', 'reshape', 'resize', 'round', 'searchsorted', 'setfield', 'setflags', 'shape', 'size', 'sort', 'squeeze', 'std', 'strides', 'sum', 'swapaxes', 'take', 'tobytes', 'tofile', 'tolist', 'tostring', 'trace', 'transpose', 'var', 'view']\n",
            "0.3243193\n",
            "[3.3717632e-05 1.0834954e-03 5.4835563e-04 2.3560699e-03 4.8595658e-04\n",
            " 6.3089078e-04 2.6621557e-05 3.9013295e-05 1.1428260e-03 1.8356617e-04\n",
            " 7.8934630e-05 1.5570086e-03 6.5528313e-03 2.2573599e-01 1.0605910e-02\n",
            " 1.4983912e-03 1.2174761e-05 4.9607243e-05 4.5991172e-05 6.8630925e-06\n",
            " 1.2154025e-04 2.9465973e-05 5.9859134e-04 1.8383157e-04 7.0259302e-05\n",
            " 2.7107811e-02 2.2214757e-05 3.8971925e-06 8.2925037e-03 4.1197157e-03\n",
            " 3.4813050e-04 1.5386517e-04 8.0635806e-04 7.0549124e-03 6.5479957e-02\n",
            " 3.0052435e-01 5.2128420e-03 3.1051059e-05 3.2431930e-01 4.9656682e-04\n",
            " 2.3043752e-03 3.7546353e-05 6.6009266e-06]\n",
            "38\n",
            "Ahead only\n"
          ]
        },
        {
          "output_type": "execute_result",
          "data": {
            "text/plain": [
              "<matplotlib.image.AxesImage at 0x7fc27cb4a310>"
            ]
          },
          "metadata": {},
          "execution_count": 24
        },
        {
          "output_type": "display_data",
          "data": {
            "image/png": "[encoded data removed]",
            "text/plain": [
              "<Figure size 432x288 with 1 Axes>"
            ]
          },
          "metadata": {
            "needs_background": "light"
          }
        }
      ]
    },
    {
      "cell_type": "code",
      "source": [
        "plt.imshow(data_test[1])"
      ],
      "metadata": {
        "id": "koTPFomho9FV",
        "colab": {
          "base_uri": "https://localhost:8080/",
          "height": 283
        },
        "outputId": "9e90adb0-c871-4795-af80-54b216d5c9d5"
      },
      "execution_count": null,
      "outputs": [
        {
          "output_type": "execute_result",
          "data": {
            "text/plain": [
              "<matplotlib.image.AxesImage at 0x7fc27feb8d50>"
            ]
          },
          "metadata": {},
          "execution_count": 25
        },
        {
          "output_type": "display_data",
          "data": {
            "image/png": "[encoded data removed]",
            "text/plain": [
              "<Figure size 432x288 with 1 Axes>"
            ]
          },
          "metadata": {
            "needs_background": "light"
          }
        }
      ]
    },
    {
      "cell_type": "code",
      "source": [
        "data_test[1].shape\n",
        "deger = data_test[1]\n",
        "deger.reshape(1, 30, 30, 3)"
      ],
      "metadata": {
        "colab": {
          "base_uri": "https://localhost:8080/"
        },
        "id": "OuM32epntJ1N",
        "outputId": "11c2aae2-9934-4064-a710-4331da736081"
      },
      "execution_count": null,
      "outputs": [
        {
          "output_type": "execute_result",
          "data": {
            "text/plain": [
              "array([[[[ 91,  87,  90],\n",
              "         [ 92,  89,  91],\n",
              "         [ 95,  91,  95],\n",
              "         ...,\n",
              "         [189, 180, 182],\n",
              "         [192, 180, 184],\n",
              "         [193, 180, 184]],\n",
              "\n",
              "        [[ 81,  78,  83],\n",
              "         [ 81,  79,  84],\n",
              "         [ 83,  80,  87],\n",
              "         ...,\n",
              "         [188, 176, 177],\n",
              "         [190, 177, 181],\n",
              "         [191, 177, 182]],\n",
              "\n",
              "        [[ 92,  88,  96],\n",
              "         [ 92,  88,  96],\n",
              "         [ 91,  87,  94],\n",
              "         ...,\n",
              "         [186, 177, 178],\n",
              "         [189, 178, 181],\n",
              "         [189, 176, 181]],\n",
              "\n",
              "        ...,\n",
              "\n",
              "        [[246, 224, 216],\n",
              "         [244, 230, 230],\n",
              "         [242, 229, 225],\n",
              "         ...,\n",
              "         [181, 160, 157],\n",
              "         [175, 161, 166],\n",
              "         [143, 139, 153]],\n",
              "\n",
              "        [[177, 149, 146],\n",
              "         [174, 151, 149],\n",
              "         [173, 153, 152],\n",
              "         ...,\n",
              "         [166, 147, 144],\n",
              "         [176, 154, 153],\n",
              "         [168, 151, 150]],\n",
              "\n",
              "        [[155, 138, 138],\n",
              "         [148, 133, 132],\n",
              "         [153, 137, 137],\n",
              "         ...,\n",
              "         [159, 137, 139],\n",
              "         [169, 148, 150],\n",
              "         [162, 148, 151]]]], dtype=uint8)"
            ]
          },
          "metadata": {},
          "execution_count": 26
        }
      ]
    },
    {
      "cell_type": "code",
      "source": [
        "print(labels.shape)\n",
        "print(labels)\n",
        "print(pred.shape)\n",
        "print(pred)"
      ],
      "metadata": {
        "colab": {
          "base_uri": "https://localhost:8080/"
        },
        "id": "H_PAdlgP1WZ7",
        "outputId": "88988ec2-00f4-4dd1-cc8e-059e8a18d0f3"
      },
      "execution_count": null,
      "outputs": [
        {
          "output_type": "stream",
          "name": "stdout",
          "text": [
            "(12630,)\n",
            "[16  1 38 ...  6  7 10]\n",
            "(12639, 43)\n",
            "[[3.3717632e-05 1.0834954e-03 5.4835563e-04 ... 2.3043752e-03\n",
            "  3.7546353e-05 6.6009266e-06]\n",
            " [8.6449767e-03 3.0276779e-02 8.4932916e-02 ... 4.0313113e-02\n",
            "  3.5582413e-04 3.1474930e-05]\n",
            " [1.7326701e-22 9.1565039e-18 6.2796033e-15 ... 6.7523812e-18\n",
            "  1.8154279e-22 3.9081202e-29]\n",
            " ...\n",
            " [8.4853615e-05 9.7658747e-01 1.3816403e-02 ... 1.7624650e-06\n",
            "  1.7987412e-09 9.0728767e-09]\n",
            " [8.8994124e-04 9.9791390e-01 5.3741515e-04 ... 2.7800772e-07\n",
            "  1.3005905e-10 3.0413741e-10]\n",
            " [1.5557559e-06 9.9871850e-01 4.5003599e-04 ... 3.4158879e-10\n",
            "  5.0513887e-14 1.8202461e-15]]\n"
          ]
        }
      ]
    },
    {
      "cell_type": "code",
      "source": [
        "labels = labels[:12600]\n",
        "pred = pred[:12600]\n",
        "labels.reshape(12600,1)\n",
        "pred.reshape(12600,43)"
      ],
      "metadata": {
        "colab": {
          "base_uri": "https://localhost:8080/"
        },
        "id": "p8uFNlKw2Uxe",
        "outputId": "e8e0ab38-5e97-4587-9587-959259458635"
      },
      "execution_count": null,
      "outputs": [
        {
          "output_type": "execute_result",
          "data": {
            "text/plain": [
              "array([[3.3717632e-05, 1.0834954e-03, 5.4835563e-04, ..., 2.3043752e-03,\n",
              "        3.7546353e-05, 6.6009266e-06],\n",
              "       [8.6449767e-03, 3.0276779e-02, 8.4932916e-02, ..., 4.0313113e-02,\n",
              "        3.5582413e-04, 3.1474930e-05],\n",
              "       [1.7326701e-22, 9.1565039e-18, 6.2796033e-15, ..., 6.7523812e-18,\n",
              "        1.8154279e-22, 3.9081202e-29],\n",
              "       ...,\n",
              "       [2.5167636e-05, 9.8260432e-01, 1.3886984e-02, ..., 5.1233116e-08,\n",
              "        1.6345925e-10, 4.4053849e-10],\n",
              "       [2.2920840e-07, 9.9990189e-01, 9.2568182e-05, ..., 1.1010599e-10,\n",
              "        4.4538304e-14, 5.1019806e-14],\n",
              "       [8.4135672e-03, 9.2577279e-01, 4.3993518e-03, ..., 1.5216235e-02,\n",
              "        5.6947750e-04, 1.0307515e-03]], dtype=float32)"
            ]
          },
          "metadata": {},
          "execution_count": 28
        }
      ]
    },
    {
      "cell_type": "code",
      "source": [
        "List = []\n",
        "for column in pred:\n",
        "  most = 0\n",
        "  key = 0\n",
        "  for x in range(len(column)):\n",
        "      #print(str(most) + \" \"+str(key)+\" \"+str(column[x] )+\" \" +str(x))\n",
        "      if column[x] > most:\n",
        "          most = column[x]\n",
        "          key = x\n",
        "  List.append(key)"
      ],
      "metadata": {
        "id": "Xnx4yz6p4QDj"
      },
      "execution_count": null,
      "outputs": []
    },
    {
      "cell_type": "code",
      "source": [
        "#model.save(\"Trafic_signs_model.h5\")\n",
        "\n",
        "reconstructed_model = keras.models.load_model(\"Trafic_signs_model.h5\")\n",
        "\n"
      ],
      "metadata": {
        "id": "to0Q7T3TMYtf"
      },
      "execution_count": null,
      "outputs": []
    },
    {
      "cell_type": "code",
      "source": [
        "reconstructed_model.summary()"
      ],
      "metadata": {
        "colab": {
          "base_uri": "https://localhost:8080/"
        },
        "id": "zRJrX5eW0aIA",
        "outputId": "f87f15a8-a15d-48c5-d861-b1feb03d2be4"
      },
      "execution_count": null,
      "outputs": [
        {
          "output_type": "stream",
          "name": "stdout",
          "text": [
            "Model: \"sequential\"\n",
            "_________________________________________________________________\n",
            " Layer (type)                Output Shape              Param #   \n",
            "=================================================================\n",
            " conv2d (Conv2D)             (None, 26, 26, 32)        2432      \n",
            "                                                                 \n",
            " conv2d_1 (Conv2D)           (None, 22, 22, 32)        25632     \n",
            "                                                                 \n",
            " max_pooling2d (MaxPooling2D  (None, 11, 11, 32)       0         \n",
            " )                                                               \n",
            "                                                                 \n",
            " dropout (Dropout)           (None, 11, 11, 32)        0         \n",
            "                                                                 \n",
            " conv2d_2 (Conv2D)           (None, 9, 9, 64)          18496     \n",
            "                                                                 \n",
            " conv2d_3 (Conv2D)           (None, 7, 7, 64)          36928     \n",
            "                                                                 \n",
            " max_pooling2d_1 (MaxPooling  (None, 3, 3, 64)         0         \n",
            " 2D)                                                             \n",
            "                                                                 \n",
            " dropout_1 (Dropout)         (None, 3, 3, 64)          0         \n",
            "                                                                 \n",
            " flatten (Flatten)           (None, 576)               0         \n",
            "                                                                 \n",
            " dense (Dense)               (None, 256)               147712    \n",
            "                                                                 \n",
            " dropout_2 (Dropout)         (None, 256)               0         \n",
            "                                                                 \n",
            " dense_1 (Dense)             (None, 43)                11051     \n",
            "                                                                 \n",
            "=================================================================\n",
            "Total params: 242,251\n",
            "Trainable params: 242,251\n",
            "Non-trainable params: 0\n",
            "_________________________________________________________________\n"
          ]
        }
      ]
    },
    {
      "cell_type": "code",
      "source": [
        "#model.save_weights(\"Trafic_signs_model_weights.h5\")\n",
        "reconstructed_model.load_weights(\"Trafic_signs_model_weights.h5\")"
      ],
      "metadata": {
        "id": "FdiBk-zA43RV"
      },
      "execution_count": null,
      "outputs": []
    },
    {
      "cell_type": "code",
      "source": [
        "data_test = np.array(data_test)\n",
        "data_test.shape"
      ],
      "metadata": {
        "colab": {
          "base_uri": "https://localhost:8080/"
        },
        "id": "uH_kVwkJ5d3P",
        "outputId": "d7275826-bb70-4e0a-faa1-7588d9115d37"
      },
      "execution_count": null,
      "outputs": [
        {
          "output_type": "execute_result",
          "data": {
            "text/plain": [
              "(12639, 30, 30, 3)"
            ]
          },
          "metadata": {},
          "execution_count": 33
        }
      ]
    },
    {
      "cell_type": "code",
      "source": [
        "data_test[1].shape"
      ],
      "metadata": {
        "colab": {
          "base_uri": "https://localhost:8080/"
        },
        "id": "tl0rKh125s-4",
        "outputId": "1f5422e3-c872-41e4-da33-f65d7c605a07"
      },
      "execution_count": null,
      "outputs": [
        {
          "output_type": "execute_result",
          "data": {
            "text/plain": [
              "(30, 30, 3)"
            ]
          },
          "metadata": {},
          "execution_count": 34
        }
      ]
    },
    {
      "cell_type": "code",
      "source": [
        "reconstructed_model.predict(data_test)"
      ],
      "metadata": {
        "colab": {
          "base_uri": "https://localhost:8080/"
        },
        "id": "6tzZtxVu0cfl",
        "outputId": "68f61a55-06a0-437f-9f93-910e7b5db769"
      },
      "execution_count": null,
      "outputs": [
        {
          "output_type": "execute_result",
          "data": {
            "text/plain": [
              "array([[3.3717632e-05, 1.0834954e-03, 5.4835563e-04, ..., 2.3043752e-03,\n",
              "        3.7546353e-05, 6.6009266e-06],\n",
              "       [8.6449767e-03, 3.0276779e-02, 8.4932916e-02, ..., 4.0313113e-02,\n",
              "        3.5582413e-04, 3.1474930e-05],\n",
              "       [1.7326701e-22, 9.1565039e-18, 6.2796033e-15, ..., 6.7523812e-18,\n",
              "        1.8154279e-22, 3.9081202e-29],\n",
              "       ...,\n",
              "       [8.4853615e-05, 9.7658747e-01, 1.3816403e-02, ..., 1.7624650e-06,\n",
              "        1.7987412e-09, 9.0728767e-09],\n",
              "       [8.8994124e-04, 9.9791390e-01, 5.3741515e-04, ..., 2.7800772e-07,\n",
              "        1.3005905e-10, 3.0413741e-10],\n",
              "       [1.5557559e-06, 9.9871850e-01, 4.5003599e-04, ..., 3.4158879e-10,\n",
              "        5.0513887e-14, 1.8202461e-15]], dtype=float32)"
            ]
          },
          "metadata": {},
          "execution_count": 35
        }
      ]
    },
    {
      "cell_type": "code",
      "source": [
        "data_test[2].shape\n",
        "model.predict(data_test[2:3])"
      ],
      "metadata": {
        "colab": {
          "base_uri": "https://localhost:8080/"
        },
        "id": "_E91ANbKCRuB",
        "outputId": "50bdc993-5ebf-4974-80bc-e06171abb802"
      },
      "execution_count": null,
      "outputs": [
        {
          "output_type": "execute_result",
          "data": {
            "text/plain": [
              "array([[1.7326701e-22, 9.1565039e-18, 6.2796033e-15, 7.6965982e-16,\n",
              "        1.0429522e-18, 5.5093881e-18, 7.6479585e-23, 1.0364728e-23,\n",
              "        5.3276361e-17, 1.7486764e-18, 1.2880670e-16, 7.1225826e-18,\n",
              "        4.9325967e-18, 6.4188761e-08, 5.3343115e-15, 5.4743392e-18,\n",
              "        1.7760063e-23, 6.2433770e-20, 7.6026542e-19, 7.9700084e-26,\n",
              "        7.1667669e-17, 6.5598557e-25, 7.9388917e-22, 1.8210749e-21,\n",
              "        2.6532323e-26, 6.5043322e-12, 2.0503768e-18, 8.1432900e-23,\n",
              "        9.5626850e-17, 2.2563427e-19, 2.7479363e-20, 5.6265914e-24,\n",
              "        7.5909465e-19, 1.6272158e-21, 3.1564232e-10, 4.5492594e-16,\n",
              "        1.9580168e-15, 5.9390971e-26, 9.9999988e-01, 3.5934488e-25,\n",
              "        6.7523812e-18, 1.8154279e-22, 3.9080904e-29]], dtype=float32)"
            ]
          },
          "metadata": {},
          "execution_count": 36
        }
      ]
    },
    {
      "cell_type": "code",
      "source": [
        "L = []\n",
        "L.append(data_test[2])\n",
        "print(data_test[2:3].shape)\n",
        "L = np.array(L)\n",
        "print(L.shape)\n",
        "model.predict(L)"
      ],
      "metadata": {
        "colab": {
          "base_uri": "https://localhost:8080/"
        },
        "id": "h5FzgdYqI2YG",
        "outputId": "070641b4-a2c5-4179-cacd-8928f64ddee8"
      },
      "execution_count": null,
      "outputs": [
        {
          "output_type": "stream",
          "name": "stdout",
          "text": [
            "(1, 30, 30, 3)\n",
            "(1, 30, 30, 3)\n"
          ]
        },
        {
          "output_type": "execute_result",
          "data": {
            "text/plain": [
              "array([[1.7326701e-22, 9.1565039e-18, 6.2796033e-15, 7.6965982e-16,\n",
              "        1.0429522e-18, 5.5093881e-18, 7.6479585e-23, 1.0364728e-23,\n",
              "        5.3276361e-17, 1.7486764e-18, 1.2880670e-16, 7.1225826e-18,\n",
              "        4.9325967e-18, 6.4188761e-08, 5.3343115e-15, 5.4743392e-18,\n",
              "        1.7760063e-23, 6.2433770e-20, 7.6026542e-19, 7.9700084e-26,\n",
              "        7.1667669e-17, 6.5598557e-25, 7.9388917e-22, 1.8210749e-21,\n",
              "        2.6532323e-26, 6.5043322e-12, 2.0503768e-18, 8.1432900e-23,\n",
              "        9.5626850e-17, 2.2563427e-19, 2.7479363e-20, 5.6265914e-24,\n",
              "        7.5909465e-19, 1.6272158e-21, 3.1564232e-10, 4.5492594e-16,\n",
              "        1.9580168e-15, 5.9390971e-26, 9.9999988e-01, 3.5934488e-25,\n",
              "        6.7523812e-18, 1.8154279e-22, 3.9080904e-29]], dtype=float32)"
            ]
          },
          "metadata": {},
          "execution_count": 37
        }
      ]
    }
  ]
}